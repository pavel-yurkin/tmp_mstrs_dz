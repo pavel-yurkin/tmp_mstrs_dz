{
 "cells": [
  {
   "cell_type": "markdown",
   "metadata": {},
   "source": [
    "## Lab 2"
   ]
  },
  {
   "cell_type": "markdown",
   "metadata": {},
   "source": [
    "### Part 3. Poetry generation\n",
    "\n",
    "Let's try to generate some poetry using RNNs. \n",
    "\n",
    "You have several choices here: \n",
    "\n",
    "* The Shakespeare sonnets, file `sonnets.txt` available in the notebook directory.\n",
    "\n",
    "* Роман в стихах \"Евгений Онегин\" Александра Сергеевича Пушкина. В предобработанном виде доступен по [ссылке](https://github.com/attatrol/data_sources/blob/master/onegin.txt).\n",
    "\n",
    "* Some other text source, if it will be approved by the course staff.\n",
    "\n",
    "Text generation can be designed in several steps:\n",
    "    \n",
    "1. Data loading.\n",
    "2. Dictionary generation.\n",
    "3. Data preprocessing.\n",
    "4. Model (neural network) training.\n",
    "5. Text generation (model evaluation).\n"
   ]
  },
  {
   "cell_type": "code",
   "execution_count": 40,
   "metadata": {},
   "outputs": [],
   "source": [
    "import string\n",
    "import os"
   ]
  },
  {
   "cell_type": "markdown",
   "metadata": {},
   "source": [
    "### Data loading: Shakespeare"
   ]
  },
  {
   "cell_type": "markdown",
   "metadata": {},
   "source": [
    "Shakespeare sonnets are awailable at this [link](http://www.gutenberg.org/ebooks/1041?msg=welcome_stranger). In addition, they are stored in the same directory as this notebook (`sonnetes.txt`). Simple preprocessing is already done for you in the next cell: all technical info is dropped."
   ]
  },
  {
   "cell_type": "code",
   "execution_count": 3,
   "metadata": {
    "collapsed": true
   },
   "outputs": [],
   "source": [
    "if not os.path.exists('sonnets.txt'):\n",
    "    !wget https://raw.githubusercontent.com/girafe-ai/ml-course/22f_basic/homeworks_basic/lab02_deep_learning/sonnets.txt\n",
    "\n",
    "with open('sonnets.txt', 'r') as iofile:\n",
    "    text = iofile.readlines()\n",
    "    \n",
    "TEXT_START = 45\n",
    "TEXT_END = -368\n",
    "text = text[TEXT_START : TEXT_END]\n",
    "assert len(text) == 2616"
   ]
  },
  {
   "cell_type": "markdown",
   "metadata": {},
   "source": [
    "In opposite to the in-class practice, this time we want to predict complex text. Let's reduce the complexity of the task and lowercase all the symbols.\n",
    "\n",
    "Now variable `text` is a list of strings. Join all the strings into one and lowercase it."
   ]
  },
  {
   "cell_type": "code",
   "execution_count": 41,
   "metadata": {},
   "outputs": [
    {
     "name": "stdout",
     "output_type": "stream",
     "text": [
      "OK!\n"
     ]
    }
   ],
   "source": [
    "# Join all the strings into one and lowercase it\n",
    "# Put result into variable text.\n",
    "\n",
    "# Your great code here\n",
    "\n",
    "text = ''.join(text).lower()\n",
    "\n",
    "assert len(text) == 100225, 'Are you sure you have concatenated all the strings?'\n",
    "assert not any([x in set(text) for x in string.ascii_uppercase]), 'Uppercase letters are present'\n",
    "print('OK!')"
   ]
  },
  {
   "cell_type": "code",
   "execution_count": null,
   "metadata": {},
   "outputs": [
    {
     "name": "stdout",
     "output_type": "stream",
     "text": [
      "Requirement already satisfied: requests in c:\\users\\pavel\\appdata\\local\\packages\\pythonsoftwarefoundation.python.3.11_qbz5n2kfra8p0\\localcache\\local-packages\\python311\\site-packages (2.32.3)\n",
      "Requirement already satisfied: charset-normalizer<4,>=2 in c:\\users\\pavel\\appdata\\local\\packages\\pythonsoftwarefoundation.python.3.11_qbz5n2kfra8p0\\localcache\\local-packages\\python311\\site-packages (from requests) (3.4.0)\n",
      "Requirement already satisfied: idna<4,>=2.5 in c:\\users\\pavel\\appdata\\local\\packages\\pythonsoftwarefoundation.python.3.11_qbz5n2kfra8p0\\localcache\\local-packages\\python311\\site-packages (from requests) (3.10)\n",
      "Requirement already satisfied: urllib3<3,>=1.21.1 in c:\\users\\pavel\\appdata\\local\\packages\\pythonsoftwarefoundation.python.3.11_qbz5n2kfra8p0\\localcache\\local-packages\\python311\\site-packages (from requests) (2.2.3)\n",
      "Requirement already satisfied: certifi>=2017.4.17 in c:\\users\\pavel\\appdata\\local\\packages\\pythonsoftwarefoundation.python.3.11_qbz5n2kfra8p0\\localcache\\local-packages\\python311\\site-packages (from requests) (2024.8.30)\n"
     ]
    },
    {
     "name": "stderr",
     "output_type": "stream",
     "text": [
      "\n",
      "[notice] A new release of pip is available: 24.0 -> 24.3.1\n",
      "[notice] To update, run: C:\\Users\\pavel\\AppData\\Local\\Microsoft\\WindowsApps\\PythonSoftwareFoundation.Python.3.11_qbz5n2kfra8p0\\python.exe -m pip install --upgrade pip\n"
     ]
    }
   ],
   "source": [
    "# !pip install requests\n"
   ]
  },
  {
   "cell_type": "code",
   "execution_count": 12,
   "metadata": {},
   "outputs": [
    {
     "name": "stdout",
     "output_type": "stream",
     "text": [
      "File downloaded successfully as 'onegin.txt'.\n"
     ]
    }
   ],
   "source": [
    "import requests\n",
    "\n",
    "\n",
    "url = 'https://raw.githubusercontent.com/attatrol/data_sources/master/onegin.txt'\n",
    "\n",
    "try:\n",
    "    response = requests.get(url)\n",
    "    response.raise_for_status()  \n",
    "\n",
    "    with open('onegin.txt', 'w', encoding='utf-8') as file:\n",
    "        file.write(response.text)\n",
    "\n",
    "except requests.exceptions.HTTPError as http_err:\n",
    "    print(f\"HTTP error occurred: {http_err}\") \n",
    "except Exception as err:\n",
    "    print(f\"An error occurred: {err}\")\n"
   ]
  },
  {
   "cell_type": "markdown",
   "metadata": {},
   "source": [
    "### Data loading: \"Евгений Онегин\"\n"
   ]
  },
  {
   "cell_type": "code",
   "execution_count": 42,
   "metadata": {},
   "outputs": [],
   "source": [
    "# !wget https://raw.githubusercontent.com/attatrol/data_sources/master/onegin.txt\n",
    "    \n",
    "# with open('onegin.txt', 'r') as iofile:\n",
    "#     text = iofile.readlines()\n",
    "    \n",
    "text = [x.replace('\\t\\t', '') for x in text]"
   ]
  },
  {
   "cell_type": "markdown",
   "metadata": {},
   "source": [
    "In opposite to the in-class practice, this time we want to predict complex text. Let's reduce the complexity of the task and lowercase all the symbols.\n",
    "\n",
    "Now variable `text` is a list of strings. Join all the strings into one and lowercase it."
   ]
  },
  {
   "cell_type": "code",
   "execution_count": 43,
   "metadata": {},
   "outputs": [],
   "source": [
    "# Join all the strings into one and lowercase it\n",
    "# Put result into variable text.\n",
    "\n",
    "# Your great code here\n",
    "text = ''.join(text).lower()"
   ]
  },
  {
   "cell_type": "markdown",
   "metadata": {},
   "source": [
    "Put all the characters, that you've seen in the text, into variable `tokens`."
   ]
  },
  {
   "cell_type": "code",
   "execution_count": 20,
   "metadata": {},
   "outputs": [],
   "source": [
    "# tokens = sorted(set(out))"
   ]
  },
  {
   "cell_type": "markdown",
   "metadata": {},
   "source": [
    "Create dictionary `token_to_idx = {<char>: <index>}` and dictionary `idx_to_token = {<index>: <char>}`"
   ]
  },
  {
   "cell_type": "code",
   "execution_count": 44,
   "metadata": {
    "collapsed": true
   },
   "outputs": [],
   "source": [
    "# dict <index>:<char>\n",
    "# Your great code here\n",
    "\n",
    "# dict <char>:<index>\n",
    "# Your great code here\n",
    "\n",
    "tokens = sorted(set(text))\n",
    "\n",
    "idx_to_token = {i: ch for i, ch in enumerate(tokens)}\n",
    "token_to_idx = {ch: i for i, ch in enumerate(tokens)}"
   ]
  },
  {
   "cell_type": "markdown",
   "metadata": {},
   "source": [
    "*Comment: in this task we have only 38 different tokens, so let's use one-hot encoding.*"
   ]
  },
  {
   "cell_type": "markdown",
   "metadata": {},
   "source": [
    "### Building the model"
   ]
  },
  {
   "cell_type": "markdown",
   "metadata": {},
   "source": [
    "Now we want to build and train recurrent neural net which would be able to something similar to Shakespeare's poetry.\n",
    "\n",
    "Let's use vanilla RNN, similar to the one created during the lesson."
   ]
  },
  {
   "cell_type": "code",
   "execution_count": 45,
   "metadata": {
    "collapsed": true
   },
   "outputs": [
    {
     "name": "stdout",
     "output_type": "stream",
     "text": [
      "(100225, 38)\n",
      "iter 0, loss: 181.879305\n",
      "----\n",
      " ib?yi-\n",
      "iz.o'r 'wo(dgcgb,m:o)bm,du(f!(.,g!?hdev)\n",
      "g?:,oraam..nlj'ibk:p':x,xpjw,.nlzxghfs;vri  dcluq;?w:ss.jnlak:(,?vr?krjamgcwn!?b;\n",
      "gyjgx\n",
      "e ,u'i)rkavms!\n",
      "lx)zs-?qfjl(mw)c.ktc(e'gc\n",
      "mzwv?vlfk;rnfq,mdmdy,f' \n",
      "----\n",
      "iter 1000, loss: 164.638833\n",
      "----\n",
      " e n sh ekeeth  y ,mtoro.\n",
      " mo bewhuisc  me not nwhek l yolhh  mo itebanw\n",
      "woo m\n",
      " mo ech namhhothewinal as-oi h ledeiyoptw n,\n",
      "y moyo tnl fador mily  v t ywo  hgy mov\n",
      "i wthoy tktll\n",
      " kirh\n",
      "e  pilty womnoto; \n",
      "----\n",
      "iter 2000, loss: 144.652439\n",
      "----\n",
      " rrill ichy\n",
      " dy d be  hanshe norympbdn gknaandar, lot i baminghar uighed haikery d\n",
      "\n",
      " hy mlnl;\n",
      "  de greghmiryh s d dabe dorr t  sshinerethcy cgy l w dhy d  ;\n",
      "\n",
      "  ros .\n",
      " uy ff reall'mnauinght utakd gh win \n",
      "----\n",
      "iter 3000, loss: 129.939869\n",
      "----\n",
      " woss gowi ysthe  alieth iapnh deme whisg,\n",
      " illan my myos woutwad menos, an tut thuinnth,\n",
      " althilh mapasd tisd,\n",
      " ly at th mhramy.\n",
      "  wodeanithysas worgtenegy meraw ahout want st ky bi mlpw whe.\n",
      "e biil\n",
      "  \n",
      "----\n",
      "iter 4000, loss: 121.918614\n",
      "----\n",
      " npac,\n",
      "  lo obe.\n",
      "  vot agote thh thatl\n",
      "\n",
      "  merre gori ind,\n",
      " gh slee; rint loul dyavort he'st themy be beeess di''d my,\n",
      "  f,egele menoind had mind.\n",
      "   apdd eovet ciau  mis mve; f sye b''cat ing ofacaig   \n",
      "----\n",
      "iter 5000, loss: 116.927382\n",
      "----\n",
      " .\n",
      " ,\n",
      "  al.\n",
      "\n",
      "\n",
      "  let wil is mheass eartiaoug wo! woalges sthas alil:\n",
      "\n",
      "  thlii\n",
      "\n",
      "   wom thderyet sivly ?\n",
      "  bey lemy sl, suovetoanso thes mit,\n",
      "  tan;\n",
      "  blinmy loxxxng i dhyf sh lary,\n",
      "  pureat lil ptide lle \n",
      "----\n",
      "iter 6000, loss: 114.506409\n",
      "----\n",
      " ot oret;\n",
      "\n",
      "  y theres's lunld y ve pe, dousece suver wo infe and'p,\n",
      "' rxl hee thest ly thanevoksd bee beh thousf oud'g th.\n",
      "  thoit rhense fa-theld, somth heay andr love npye ipth moum bart deinde ssee' \n",
      "----\n",
      "iter 7000, loss: 112.544977\n",
      "----\n",
      "   la\n",
      "\n",
      "  ea ty pouc thaneuse, dde wove lit bor ay ;  s wate thysouing foupune ctay?\n",
      "\n",
      "  woult,\n",
      "  s tore ave bay,\n",
      "    lfouno ve frer.\n",
      "\n",
      "  and, or lree, th dav mi oupmoregi thy rees:\n",
      "  in\n",
      "  bus ard, s levv \n",
      "----\n",
      "iter 8000, loss: 111.209935\n",
      "----\n",
      " \n",
      "  ctosspy,\n",
      "  feegure,\n",
      "  fraldryu hageanw thaf orcimy ose,\n",
      "    yove'g reoby't, asd rave ls ep tho\n",
      "  y fou yxaivesed wadinds magat crid o anwsh.\n",
      "\n",
      " taghlers mindexi\n",
      "\n",
      "  thinet's seist,\n",
      "  os,\n",
      "   londf thy \n",
      "----\n",
      "iter 9000, loss: 110.320041\n",
      "----\n",
      " w  theth vi dove  i no than aok s i tye dinse- ao gomgleld piltild yot quren m sune, thy waf wall.\n",
      "  fing wcar ilr wheok th peed, thige dot aeine.\n",
      "   thee ahry\n",
      "  i shomarenn mavr yove tey torti eswant \n",
      "----\n",
      "щoutput:\n",
      " oofcadevew, afra mi nit s thii\n",
      "  cxi\n",
      "\n",
      "  iver fiday lrou foiid paty,id daive, fallly.\n",
      "  whelay tot ise aid linsero thid my and ar'd cullad,\n",
      "  al;\n",
      "   anet iew yeay hapsea ing ate;\n",
      "  thad for dalllo hvesatshasd beid ape yongasl wiselor,\n",
      "  el:\n",
      "   iave lo dvauthise arkitave thobt covalf paolly nipanindd aiad sovowme m lorise halanse shacise oodof,\n",
      "  to gepo fove,\n",
      "  laut;\n",
      "  doyotill icave thise hild.\n",
      "  aowlo osky hounello powfeting adel me wici aldei leoh inito;\n",
      "  fereilob icidesas lare,'d ulidvyolchs\n"
     ]
    }
   ],
   "source": [
    "# Your code here\n",
    "\n",
    "import numpy as np\n",
    "\n",
    "loss_history = []\n",
    "\n",
    "hidden_size = 128\n",
    "seq_length = 50    \n",
    "learning_rate = 1e-1\n",
    "\n",
    "data = text\n",
    "data_size = len(data)\n",
    "vocab_size = len(tokens)\n",
    "\n",
    "print((data_size, vocab_size))\n",
    "\n",
    "def char_to_ix(ch):\n",
    "    return token_to_idx[ch]\n",
    "\n",
    "def ix_to_char(ix):\n",
    "    return idx_to_token[ix]\n",
    "\n",
    "\n",
    "Wxh = np.random.randn(hidden_size, vocab_size)*0.01  \n",
    "Whh = np.random.randn(hidden_size, hidden_size)*0.01  \n",
    "Why = np.random.randn(vocab_size, hidden_size)*0.01  \n",
    "bh = np.zeros((hidden_size, 1))  \n",
    "by = np.zeros((vocab_size, 1))  \n",
    "\n",
    "def lossFun(inputs, targets, hprev):\n",
    "\n",
    "    xs, hs, ys, ps = {}, {}, {}, {}\n",
    "    hs[-1] = np.copy(hprev)\n",
    "\n",
    "    for t in range(len(inputs)):\n",
    "        xs[t] = np.zeros((vocab_size,1))  \n",
    "        xs[t][inputs[t]] = 1\n",
    "        hs[t] = np.tanh(np.dot(Wxh, xs[t]) + np.dot(Whh, hs[t-1]) + bh)\n",
    "        ys[t] = np.dot(Why, hs[t]) + by\n",
    "        ps[t] = np.exp(ys[t]) / np.sum(np.exp(ys[t]))\n",
    "    \n",
    "\n",
    "    loss = 0\n",
    "    for t in range(len(inputs)):\n",
    "        loss += -np.log(ps[t][targets[t],0])\n",
    "    \n",
    "    dWxh, dWhh, dWhy = np.zeros_like(Wxh), np.zeros_like(Whh), np.zeros_like(Why)\n",
    "    dbh, dby = np.zeros_like(bh), np.zeros_like(by)\n",
    "    dhnext = np.zeros_like(hs[0])\n",
    "    for t in reversed(range(len(inputs))):\n",
    "        dy = np.copy(ps[t])\n",
    "        dy[targets[t]] -= 1\n",
    "        dWhy += np.dot(dy, hs[t].T)\n",
    "        dby += dy\n",
    "        dh = np.dot(Why.T, dy) + dhnext\n",
    "        dhraw = (1 - hs[t]*hs[t]) * dh\n",
    "        dbh += dhraw\n",
    "        dWxh += np.dot(dhraw, xs[t].T)\n",
    "        dWhh += np.dot(dhraw, hs[t-1].T)\n",
    "        dhnext = np.dot(Whh, dhraw)\n",
    "    for dparam in [dWxh, dWhh, dWhy, dbh, dby]:\n",
    "        np.clip(dparam, -5, 5, out=dparam)  \n",
    "    \n",
    "    return loss, dWxh, dWhh, dWhy, dbh, dby, hs[len(inputs)-1]\n",
    "\n",
    "def sample(h, seed_ix, n):\n",
    "\n",
    "    x = np.zeros((vocab_size,1))\n",
    "    x[seed_ix] = 1\n",
    "    ixes = []\n",
    "    for t in range(n):\n",
    "        h = np.tanh(np.dot(Wxh, x) + np.dot(Whh, h) + bh)\n",
    "        y = np.dot(Why, h) + by\n",
    "        p = np.exp(y) / np.sum(np.exp(y))\n",
    "        ix = np.random.choice(range(vocab_size), p=p.ravel())\n",
    "        x = np.zeros((vocab_size,1))\n",
    "        x[ix] = 1\n",
    "        ixes.append(ix)\n",
    "    return ixes\n",
    "\n",
    "n, p = 0, 0\n",
    "mWxh, mWhh, mWhy = np.zeros_like(Wxh), np.zeros_like(Whh), np.zeros_like(Why)\n",
    "mbh, mby = np.zeros_like(bh), np.zeros_like(by)\n",
    "smooth_loss = -np.log(1.0/vocab_size)*seq_length \n",
    "\n",
    "max_iterations = 10000 \n",
    "\n",
    "while n < max_iterations:\n",
    "\n",
    "    if p+seq_length+1 >= len(data) or n == 0:\n",
    "        hprev = np.zeros((hidden_size,1))\n",
    "        p = 0 \n",
    "    inputs = [char_to_ix(ch) for ch in data[p:p+seq_length]]\n",
    "    targets = [char_to_ix(ch) for ch in data[p+1:p+seq_length+1]]\n",
    "\n",
    "    loss, dWxh, dWhh, dWhy, dbh, dby, hprev = lossFun(inputs, targets, hprev)\n",
    "    smooth_loss = smooth_loss * 0.999 + loss * 0.001\n",
    "\n",
    "    if n % 1000 == 0:\n",
    "        print('iter %d, loss: %f' % (n, smooth_loss))\n",
    "        loss_history.append(loss)\n",
    "        sample_ix = sample(hprev, inputs[0], 200)\n",
    "        txt = ''.join(ix_to_char(ix) for ix in sample_ix)\n",
    "        print('----\\n %s \\n----' % (txt, ))\n",
    "\n",
    "    for param, dparam, mem in zip([Wxh, Whh, Why, bh, by],\n",
    "                                  [dWxh,dWhh,dWhy,dbh,dby],\n",
    "                                  [mWxh,mWhh,mWhy,mbh,mby]):\n",
    "        mem += dparam * dparam\n",
    "        param += -learning_rate * dparam / (np.sqrt(mem)+1e-8)\n",
    "\n",
    "    p += seq_length\n",
    "    n += 1\n",
    "\n",
    "hprev = np.zeros((hidden_size,1))\n",
    "seed_ix = char_to_ix('t')\n",
    "sample_ix = sample(hprev, seed_ix, 500)\n",
    "generated_text = ''.join(ix_to_char(ix) for ix in sample_ix)\n",
    "print(\"щoutput:\\n\", generated_text)"
   ]
  },
  {
   "cell_type": "code",
   "execution_count": 34,
   "metadata": {},
   "outputs": [
    {
     "data": {
      "text/plain": [
       "\"  fak miv the leas dyill weath myth ores thio not rran my the ard;\\n   plitixk\\n\\n\\n  ais\\n    fould my dive whyullins of frowit.\\n\\n   cotfaim wirg wapdle-t maing, do is all;\\n  allllige wey wit ollis jveand\\n  loving wireade tachith hainte f aull norendee fea\\n  aspistraf'taugyte?\\n  ho\\n\\n  po srant,\\n  bovh thavy thorle olltauos'd hadthin-m'd at of ery a note!\\n  fove on bosin hou iigh gow, andell ofat-le luid faven no! thaicwit ulsisprgan codst\\n\\n   felor'de,\\n  do fof i of thoalld,\\n  favearad,\\n  nas\\n\\n t ei\""
      ]
     },
     "execution_count": 34,
     "metadata": {},
     "output_type": "execute_result"
    }
   ],
   "source": [
    "generated_text[:500]"
   ]
  },
  {
   "cell_type": "markdown",
   "metadata": {},
   "source": [
    "Plot the loss function (axis X: number of epochs, axis Y: loss function)."
   ]
  },
  {
   "cell_type": "code",
   "execution_count": null,
   "metadata": {
    "collapsed": true
   },
   "outputs": [
    {
     "data": {
      "image/png": "[encoded data removed]",
      "text/plain": [
       "<Figure size 1000x500 with 1 Axes>"
      ]
     },
     "metadata": {},
     "output_type": "display_data"
    }
   ],
   "source": [
    "import matplotlib.pyplot as plt\n",
    "\n",
    "plt.figure(figsize=(10, 5))\n",
    "plt.plot(loss_history, label='Training Loss')\n",
    "plt.xlabel('Iteration')\n",
    "plt.ylabel('Loss')\n",
    "plt.title('RNN Training Loss Over Time')\n",
    "plt.legend()\n",
    "plt.grid(True)\n",
    "plt.show()"
   ]
  },
  {
   "cell_type": "code",
   "execution_count": 32,
   "metadata": {},
   "outputs": [],
   "source": [
    "# def generate_sample(char_rnn, seed_phrase=' Hello', max_length=500, temperature=1.0):\n",
    "#     '''\n",
    "#     ### Disclaimer: this is an example function for text generation.\n",
    "#     ### You can either adapt it in your code or create your own function\n",
    "    \n",
    "#     The function generates text given a phrase of length at least SEQ_LENGTH.\n",
    "#     :param seed_phrase: prefix characters. The RNN is asked to continue the phrase\n",
    "#     :param max_length: maximum output length, including seed_phrase\n",
    "#     :param temperature: coefficient for sampling.  higher temperature produces more chaotic outputs, \n",
    "#         smaller temperature converges to the single most likely output.\n",
    "        \n",
    "#     Be careful with the model output. This model waits logits (not probabilities/log-probabilities)\n",
    "#     of the next symbol.\n",
    "#     '''\n",
    "    \n",
    "#     x_sequence = [token_to_id[token] for token in seed_phrase]\n",
    "#     x_sequence = torch.tensor([[x_sequence]], dtype=torch.int64)\n",
    "#     hid_state = char_rnn.initial_state(batch_size=1)\n",
    "    \n",
    "#     #feed the seed phrase, if any\n",
    "#     for i in range(len(seed_phrase) - 1):\n",
    "#         print(x_sequence[:, -1].shape, hid_state.shape)\n",
    "#         out, hid_state = char_rnn(x_sequence[:, i], hid_state)\n",
    "    \n",
    "#     #start generating\n",
    "#     for _ in range(max_length - len(seed_phrase)):\n",
    "#         print(x_sequence.shape, x_sequence, hid_state.shape)\n",
    "#         out, hid_state = char_rnn(x_sequence[:, -1], hid_state)\n",
    "#         # Be really careful here with the model output\n",
    "#         p_next = F.softmax(out / temperature, dim=-1).data.numpy()[0]\n",
    "        \n",
    "#         # sample next token and push it back into x_sequence\n",
    "#         print(p_next.shape, len(tokens))\n",
    "#         next_ix = np.random.choice(len(tokens), p=p_next)\n",
    "#         next_ix = torch.tensor([[next_ix]], dtype=torch.int64)\n",
    "#         print(x_sequence.shape, next_ix.shape)\n",
    "#         x_sequence = torch.cat([x_sequence, next_ix], dim=1)\n",
    "        \n",
    "#     return ''.join([tokens[ix] for ix in x_sequence.data.numpy()[0]])"
   ]
  },
  {
   "cell_type": "code",
   "execution_count": 35,
   "metadata": {},
   "outputs": [],
   "source": [
    "# An example of generated text.\n",
    "# print(generate_text(length=500, temperature=0.2))"
   ]
  },
  {
   "cell_type": "markdown",
   "metadata": {},
   "source": [
    "### More poetic model\n",
    "\n",
    "Let's use LSTM instead of vanilla RNN and compare the results."
   ]
  },
  {
   "cell_type": "markdown",
   "metadata": {},
   "source": [
    "Plot the loss function of the number of epochs. Does the final loss become better?"
   ]
  },
  {
   "cell_type": "code",
   "execution_count": 46,
   "metadata": {
    "collapsed": true
   },
   "outputs": [],
   "source": [
    "# Your beautiful code here"
   ]
  },
  {
   "cell_type": "markdown",
   "metadata": {},
   "source": [
    "Generate text using the trained net with different `temperature` parameter: `[0.1, 0.2, 0.5, 1.0, 2.0]`.\n",
    "\n",
    "Evaluate the results visually, try to interpret them."
   ]
  },
  {
   "cell_type": "code",
   "execution_count": 47,
   "metadata": {
    "collapsed": true
   },
   "outputs": [],
   "source": [
    "# Text generation with different temperature values here"
   ]
  },
  {
   "cell_type": "code",
   "execution_count": 37,
   "metadata": {},
   "outputs": [
    {
     "name": "stdout",
     "output_type": "stream",
     "text": [
      "Epoch [5/5] Loss: 1.9123\n"
     ]
    },
    {
     "data": {
      "image/png": "[encoded data removed]",
      "text/plain": [
       "<Figure size 1000x500 with 1 Axes>"
      ]
     },
     "metadata": {},
     "output_type": "display_data"
    },
    {
     "name": "stdout",
     "output_type": "stream",
     "text": [
      "Temperature = 0.1\n",
      "shall i compare thee to and the seart in the sore the seart the searter so the sore the seart in the sears seart,\n",
      "     the seart the seare the seart in the sees the seart so sees the seart in the seart,\n",
      "  and the seart the seart in the seart in the seart in the seart in the seart the seart in the se\n",
      "------------------------------------------------------------\n",
      "Temperature = 0.2\n",
      "shall i compare thee to all the sull my searter with bear doth the my sees the shest and the prove stour the the sear the seart the sees the sees in the seen thee the the sill the sears in the are the merest the sor the sell in the seart,\n",
      "  and the whis the seart;\n",
      "  and the seart the seart,\n",
      "  and th\n",
      "------------------------------------------------------------\n",
      "Temperature = 0.5\n",
      "shall i compare thee to as love the sees in my herst all ware the read thee,\n",
      "     ars that dost couch what in minest anders be bears seaed,\n",
      "  when sund lece thou sull dot sear'd owe;\n",
      "  the pries in my love i they searst of with in with thou my supen the were agh not shee thous love of the amesse sof\n",
      "------------------------------------------------------------\n",
      "Temperature = 1.0\n",
      "shall i compare thee to afprceets surn gecceme andenc;\n",
      "    islakd ong whill, douarse bateven, mure fuan sencurys, whar dorst gaiantere all fot leost lovers.\n",
      "  the thoully willd;s fortslald;se tury mearof lov's woutsyllst\n",
      "  and oresley doftees sausit\n",
      "  to now loed, your dracs tull terine,\n",
      "  menet cal\n",
      "------------------------------------------------------------\n",
      "Temperature = 2.0\n",
      "shall i compare thee to a(ndruf itvyucetade..;\n",
      " \n",
      "o thiwr josu onuy,ud ackl secd revs'd,\n",
      " w\n",
      " gn\n",
      "  nill spirs, jofav'd;f upnros,\n",
      "  hmatr hlveclm:bsturikusp:\n",
      " g ml you!,\n",
      "  faylvptmyg\n",
      "  notunlumg houru'dhnisme? wred,e;y\n",
      ", xn hcw,aghre suchscel\n",
      "n\n",
      "?  bwhigh,\n",
      "  snxiio!( suped id gat jlv:h uldtefjpn\n",
      ") mmn i\n",
      "------------------------------------------------------------\n"
     ]
    }
   ],
   "source": [
    "import torch\n",
    "import torch.nn as nn\n",
    "import torch.optim as optim\n",
    "import torch.nn.functional as F\n",
    "import matplotlib.pyplot as plt\n",
    "import numpy as np\n",
    "from IPython.display import clear_output\n",
    "\n",
    "\n",
    "hidden_size = 256\n",
    "embedding_dim = 64\n",
    "seq_length = 50\n",
    "batch_size = 64\n",
    "num_epochs = 5  \n",
    "learning_rate = 0.001\n",
    "\n",
    "\n",
    "char_to_idx = token_to_idx\n",
    "idx_to_char = idx_to_token\n",
    "vocab_size = len(tokens)\n",
    "data_ix = [char_to_idx[ch] for ch in text]\n",
    "\n",
    "def get_batches(data_ix, seq_length, batch_size):\n",
    "\n",
    "    total_len = len(data_ix)\n",
    "    n_batches = (total_len - 1) // (batch_size * seq_length)\n",
    "\n",
    "    data_ix_trim = data_ix[:n_batches * batch_size * seq_length + 1]\n",
    "    \n",
    "    x = np.array(data_ix_trim[:-1])\n",
    "    y = np.array(data_ix_trim[1:])\n",
    "\n",
    "    x = x.reshape(batch_size, -1)\n",
    "    y = y.reshape(batch_size, -1)\n",
    "    \n",
    "    for i in range(0, x.shape[1], seq_length):\n",
    "        x_batch = x[:, i:i+seq_length]\n",
    "        y_batch = y[:, i:i+seq_length]\n",
    "        yield torch.tensor(x_batch, dtype=torch.long), torch.tensor(y_batch, dtype=torch.long)\n",
    "\n",
    "class CharLSTM(nn.Module):\n",
    "    def __init__(self, vocab_size, embedding_dim, hidden_size):\n",
    "        super(CharLSTM, self).__init__()\n",
    "        self.hidden_size = hidden_size\n",
    "        self.embedding = nn.Embedding(vocab_size, embedding_dim)\n",
    "        self.lstm = nn.LSTM(embedding_dim, hidden_size, batch_first=True)\n",
    "        self.fc = nn.Linear(hidden_size, vocab_size)\n",
    "        \n",
    "    def forward(self, x, hidden):\n",
    "        embedded = self.embedding(x) \n",
    "        out, hidden = self.lstm(embedded, hidden) # out: [batch, seq_length, hidden_size]\n",
    "        out = self.fc(out) \n",
    "        return out, hidden\n",
    "    \n",
    "    def init_hidden(self, batch_size):\n",
    "        return (torch.zeros(1, batch_size, self.hidden_size),\n",
    "                torch.zeros(1, batch_size, self.hidden_size))\n",
    "\n",
    "model = CharLSTM(vocab_size, embedding_dim, hidden_size)\n",
    "criterion = nn.CrossEntropyLoss()\n",
    "optimizer = optim.Adam(model.parameters(), lr=learning_rate)\n",
    "\n",
    "loss_history = []\n",
    "\n",
    "for epoch in range(num_epochs):\n",
    "    h, c = model.init_hidden(batch_size)\n",
    "    epoch_loss = 0\n",
    "    count = 0\n",
    "    \n",
    "    for x_batch, y_batch in get_batches(data_ix, seq_length, batch_size):\n",
    "        h = h.detach()\n",
    "        c = c.detach()\n",
    "        \n",
    "        optimizer.zero_grad()\n",
    "        \n",
    "        out, (h, c) = model(x_batch, (h, c))\n",
    "        # out: [batch_size, seq_length, vocab_size]\n",
    "    \n",
    "        out = out.reshape(-1, vocab_size) # [batch_size*seq_length, vocab_size]\n",
    "        y_batch = y_batch.reshape(-1)     \n",
    "        \n",
    "        loss = criterion(out, y_batch)\n",
    "        loss.backward()\n",
    "        \n",
    "        optimizer.step()\n",
    "        \n",
    "        epoch_loss += loss.item()\n",
    "        count += 1\n",
    "    \n",
    "    avg_loss = epoch_loss / count\n",
    "    loss_history.append(avg_loss)\n",
    "    clear_output(wait=True)\n",
    "    print(f\"Epoch [{epoch+1}/{num_epochs}] Loss: {avg_loss:.4f}\")\n",
    "\n",
    "\n",
    "plt.figure(figsize=(10,5))\n",
    "plt.plot(loss_history, label='Training Loss')\n",
    "plt.xlabel('Epoch')\n",
    "plt.ylabel('Loss')\n",
    "plt.title('Loss b Epochs')\n",
    "plt.legend()\n",
    "plt.grid(True)\n",
    "plt.show()\n",
    "\n",
    "\n",
    "def sample(model, seed_str=' ', max_length=200, temperature=1.0):\n",
    "    model.eval()\n",
    "    h, c = model.init_hidden(1)\n",
    "\n",
    "    input_seq = torch.tensor([[char_to_idx[ch] for ch in seed_str]], dtype=torch.long)\n",
    "    \n",
    "    for i in range(len(seed_str)-1):\n",
    "        _, (h, c) = model(input_seq[:, i].unsqueeze(1), (h, c))\n",
    "    \n",
    "\n",
    "    out_chars = list(seed_str)\n",
    "    last_char = input_seq[:, -1]\n",
    "    \n",
    "    for i in range(max_length - len(seed_str)):\n",
    "\n",
    "        out, (h, c) = model(last_char.unsqueeze(1), (h, c))\n",
    "        # out: [1,1,vocab_size]\n",
    "        logits = out[0,0,:] / temperature\n",
    "        probs = torch.softmax(logits, dim=-1).detach().numpy()\n",
    "        next_char_idx = np.random.choice(vocab_size, p=probs)\n",
    "        out_chars.append(idx_to_char[next_char_idx])\n",
    "        last_char = torch.tensor([next_char_idx], dtype=torch.long)\n",
    "        \n",
    "    return ''.join(out_chars)\n",
    "\n",
    "seed = \"shall i compare thee to a\"\n",
    "for temp in [0.1, 0.2, 0.5, 1.0, 2.0]:\n",
    "    print(f\"Temperature = {temp}\")\n",
    "    print(sample(model, seed_str=seed, max_length=300, temperature=temp))\n",
    "    print(\"------------------------------------------------------------\")"
   ]
  },
  {
   "cell_type": "markdown",
   "metadata": {},
   "source": [
    "### Saving and loading models"
   ]
  },
  {
   "cell_type": "markdown",
   "metadata": {},
   "source": [
    "Save the model to the disk, then load it and generate text. Examples are available [here](https://pytorch.org/tutorials/beginner/saving_loading_models.html])."
   ]
  },
  {
   "cell_type": "code",
   "execution_count": 39,
   "metadata": {
    "collapsed": true
   },
   "outputs": [],
   "source": [
    "# Saving and loading code here"
   ]
  },
  {
   "cell_type": "code",
   "execution_count": 38,
   "metadata": {},
   "outputs": [
    {
     "name": "stdout",
     "output_type": "stream",
     "text": [
      "Model saved to char_lstm_model.pt\n",
      "Text generated from the loaded model:\n"
     ]
    },
    {
     "name": "stderr",
     "output_type": "stream",
     "text": [
      "C:\\Users\\pavel\\AppData\\Local\\Temp\\ipykernel_20772\\1130212088.py:29: FutureWarning: You are using `torch.load` with `weights_only=False` (the current default value), which uses the default pickle module implicitly. It is possible to construct malicious pickle data which will execute arbitrary code during unpickling (See https://github.com/pytorch/pytorch/blob/main/SECURITY.md#untrusted-models for more details). In a future release, the default value for `weights_only` will be flipped to `True`. This limits the functions that could be executed during unpickling. Arbitrary objects will no longer be allowed to be loaded via this mode unless they are explicitly allowlisted by the user via `torch.serialization.add_safe_globals`. We recommend you start setting `weights_only=True` for any use case where you don't have full control of the loaded file. Please open an issue on GitHub for any issues related to this experimental feature.\n",
      "  checkpoint = torch.load(save_path)\n"
     ]
    },
    {
     "name": "stdout",
     "output_type": "stream",
     "text": [
      "shall i compare thee to and;and ow'th, be, wor moke skew!\n",
      "  me lvis me fal;\n",
      "  but thee anceminkun ars bitr lome eay,\n",
      "  whe love of trese with thay my hove:s sullfsul gition and wist lave,\n",
      "  thy one for diis bald thou did afede;g domines-url seery crive steectwatblf meany;\n",
      "  me love eyoull mo give,\n",
      " \n"
     ]
    }
   ],
   "source": [
    "import torch\n",
    "\n",
    "save_path = \"char_lstm_model.pt\" # корен\n",
    "\n",
    "torch.save({\n",
    "    'model_state_dict': model.state_dict(),\n",
    "    'token_to_idx': token_to_idx,\n",
    "    'idx_to_token': idx_to_token,\n",
    "    'tokens': tokens,\n",
    "    'vocab_size': vocab_size,\n",
    "    'embedding_dim': embedding_dim,\n",
    "    'hidden_size': hidden_size\n",
    "}, save_path)\n",
    "\n",
    "\n",
    "loaded_model = CharLSTM(vocab_size, embedding_dim, hidden_size)\n",
    "\n",
    "checkpoint = torch.load(save_path)\n",
    "loaded_model.load_state_dict(checkpoint['model_state_dict'])\n",
    "loaded_model.eval() \n",
    "\n",
    "loaded_token_to_idx = checkpoint['token_to_idx']\n",
    "loaded_idx_to_token = checkpoint['idx_to_token']\n",
    "loaded_tokens = checkpoint['tokens']\n",
    "\n",
    "char_to_idx = loaded_token_to_idx\n",
    "idx_to_char = loaded_idx_to_token\n",
    "\n",
    "\n",
    "def sample(model, seed_str=' ', max_length=200, temperature=1.0):\n",
    "    model.eval()\n",
    "    h, c = model.init_hidden(1)\n",
    "    input_seq = torch.tensor([[char_to_idx[ch] for ch in seed_str]], dtype=torch.long)\n",
    "    \n",
    "\n",
    "    for i in range(len(seed_str)-1):\n",
    "        _, (h, c) = model(input_seq[:, i].unsqueeze(1), (h, c))\n",
    "\n",
    "    out_chars = list(seed_str)\n",
    "    last_char = input_seq[:, -1]\n",
    "    \n",
    "    for i in range(max_length - len(seed_str)):\n",
    "        out, (h, c) = model(last_char.unsqueeze(1), (h, c))\n",
    "        logits = out[0,0,:] / temperature\n",
    "        probs = torch.softmax(logits, dim=-1).detach().numpy()\n",
    "        next_char_idx = np.random.choice(len(loaded_tokens), p=probs)\n",
    "        out_chars.append(idx_to_char[next_char_idx])\n",
    "        last_char = torch.tensor([next_char_idx], dtype=torch.long)\n",
    "        \n",
    "    return ''.join(out_chars)\n",
    "\n",
    "print(sample(loaded_model, seed_str=\"shall i compare thee to a\", max_length=300, temperature=1.0))"
   ]
  },
  {
   "cell_type": "markdown",
   "metadata": {},
   "source": [
    "### References\n",
    "1. <a href='http://karpathy.github.io/2015/05/21/rnn-effectiveness/'> Andrew Karpathy blog post about RNN. </a> \n",
    "There are several examples of genration: Shakespeare texts, Latex formulas, Linux Sourse Code and children names.\n",
    "2. <a href='https://github.com/karpathy/char-rnn'> Repo with char-rnn code </a>\n",
    "3. Cool repo with PyTorch examples: [link](https://github.com/spro/practical-pytorch`)"
   ]
  }
 ],
 "metadata": {
  "anaconda-cloud": {},
  "kernelspec": {
   "display_name": "Python 3",
   "language": "python",
   "name": "python3"
  },
  "language_info": {
   "codemirror_mode": {
    "name": "ipython",
    "version": 3
   },
   "file_extension": ".py",
   "mimetype": "text/x-python",
   "name": "python",
   "nbconvert_exporter": "python",
   "pygments_lexer": "ipython3",
   "version": "3.11.9"
  }
 },
 "nbformat": 4,
 "nbformat_minor": 2
}
