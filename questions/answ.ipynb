{
 "cells": [
  {
   "cell_type": "markdown",
   "metadata": {},
   "source": [
    "## 1."
   ]
  },
  {
   "cell_type": "markdown",
   "metadata": {},
   "source": [
    "Можно использовать классификатор, который пытается определить, из какого набора данных взят образец. Если модель не способна отличить тренинг от теста (точность близка к 50%), разбиение считается репрезентативным"
   ]
  },
  {
   "cell_type": "code",
   "execution_count": null,
   "metadata": {},
   "outputs": [
    {
     "name": "stdout",
     "output_type": "stream",
     "text": [
      "Accuracy: 0.5555555555555556\n"
     ]
    }
   ],
   "source": [
    "from sklearn.ensemble import RandomForestClassifier\n",
    "from sklearn.model_selection import train_test_split\n",
    "from sklearn.metrics import accuracy_score\n",
    "import numpy as np\n",
    "\n",
    "\n",
    "X_train, X_test, y_train, y_test = train_test_split(X, y, test_size=0.4)\n",
    "\n",
    "# 1 - тест, 0 - трейн\n",
    "X_combined = np.vstack([X_train, X_test])\n",
    "labels = np.hstack([np.zeros(len(X_train)), np.ones(len(X_test))])\n",
    "\n",
    "X_train_meta, X_test_meta, y_train_meta, y_test_meta = train_test_split(\n",
    "    X_combined, labels, test_size=0.3, stratify=labels\n",
    ")\n",
    "\n",
    "clf = RandomForestClassifier()\n",
    "clf.fit(X_train_meta, y_train_meta)\n",
    "pred = clf.predict(X_test_meta)\n",
    "score = accuracy_score(y_test_meta, pred)\n",
    "\n",
    "print(\"Accuracy:\", score)\n"
   ]
  },
  {
   "cell_type": "markdown",
   "metadata": {},
   "source": [
    "## 2."
   ]
  },
  {
   "cell_type": "markdown",
   "metadata": {},
   "source": [
    "Для клиента не из кластера 2 найти такие изменения его признаков, чтобы он приблизился к центроиду кластера 2, минимизируя отклонение от исходных значений. Формально:\n",
    "Минимизировать ||x_new – x_old||, при условии, что близость к центроиду кластера 2 больше, чем к другим"
   ]
  },
  {
   "cell_type": "markdown",
   "metadata": {},
   "source": [
    "```\n",
    "import numpy as np\n",
    "from scipy.optimize import minimize\n",
    "from sklearn.cluster import KMeans\n",
    "\n",
    "# Допустим, уже есть обученная модель\n",
    "kmeans = KMeans(n_clusters=4).fit(X)\n",
    "centroids = kmeans.cluster_centers_\n",
    "\n",
    "cluster_2_center = centroids[1]  # Индекс 1 соответствует кластеру 2\n",
    "\n",
    "def objective(x_new, x_old=client_vector):\n",
    "    # Функция цели: расстояние до исходного вектора (чем меньше, тем лучше)\n",
    "    return np.sum((x_new - x_old)**2)\n",
    "\n",
    "def constraint(x_new):\n",
    "    # Ограничение: расстояние до кластера 2 меньше, чем до любого другого кластера\n",
    "    dist_to_2 = np.linalg.norm(x_new - cluster_2_center)\n",
    "    dists_others = [np.linalg.norm(x_new - c) for i,c in enumerate(centroids) if i != 1]\n",
    "    return np.min(dists_others) - dist_to_2\n",
    "\n",
    "# Пример для одного клиента\n",
    "client_vector = X[0]  # клиент не из кластера 2\n",
    "cons = ({'type': 'ineq', 'fun': constraint})\n",
    "result = minimize(objective, x0=client_vector, constraints=cons)\n",
    "x_new = result.x\n",
    "```\n"
   ]
  },
  {
   "cell_type": "markdown",
   "metadata": {},
   "source": [
    "## 3."
   ]
  },
  {
   "cell_type": "markdown",
   "metadata": {},
   "source": [
    "Одна модель с 1000 деревьев предпочтительнее, чем две модели по 500, поскольку объединение результатов двух моделей в среднем даст тот же эффект, что и увеличение числа деревьев в одной модели"
   ]
  },
  {
   "cell_type": "code",
   "execution_count": 12,
   "metadata": {},
   "outputs": [
    {
     "name": "stdout",
     "output_type": "stream",
     "text": [
      "2 0.95\n",
      "1 0.95\n"
     ]
    }
   ],
   "source": [
    "from sklearn.ensemble import RandomForestClassifier\n",
    "from sklearn.metrics import accuracy_score\n",
    "\n",
    "model1 = RandomForestClassifier(n_estimators=500, random_state=42)\n",
    "model2 = RandomForestClassifier(n_estimators=500, random_state=43)\n",
    "\n",
    "model1.fit(X_train, y_train)\n",
    "model2.fit(X_train, y_train)\n",
    "y_pred_ensemble = (model1.predict_proba(X_test) + model2.predict_proba(X_test)) / 2\n",
    "y_pred_ensemble = y_pred_ensemble.argmax(axis=1)\n",
    "\n",
    "model_single = RandomForestClassifier(n_estimators=1000, random_state=42)\n",
    "model_single.fit(X_train, y_train)\n",
    "y_pred_single = model_single.predict(X_test)\n",
    "\n",
    "print(\"2\", accuracy_score(y_test, y_pred_ensemble))\n",
    "print(\"1\", accuracy_score(y_test, y_pred_single))\n"
   ]
  },
  {
   "cell_type": "markdown",
   "metadata": {},
   "source": [
    "Тут разницы нет, но у одного дерева будет ниже дисперсия + вычисления одного дерева будут лучше с точки зрения памяти и времени"
   ]
  },
  {
   "cell_type": "markdown",
   "metadata": {},
   "source": [
    "## 4."
   ]
  },
  {
   "cell_type": "markdown",
   "metadata": {},
   "source": [
    "1. Обучить KMeans по историческим данным, разделив клиентов на кластеры\n",
    "2. Определить долю дефолтных клиентов в каждом кластере\n",
    "3. Для нового клиента определить ближайший кластер (например, по расстоянию до центроида)\n",
    "4. Вероятностью дефолта считать долю дефолтных клиентов в этом ближайшем кластере"
   ]
  },
  {
   "cell_type": "markdown",
   "metadata": {},
   "source": [
    "## 5. "
   ]
  },
  {
   "cell_type": "markdown",
   "metadata": {},
   "source": [
    "Преобразовать задачу регрессии в классификацию, разделив доход на категории (биннинг). Затем обучить классификационную модель предсказывать категорию дохода. Для получения прогнозируемого значения можно использовать среднее значение в предсказанной категории или вероятностный подход  "
   ]
  },
  {
   "cell_type": "code",
   "execution_count": 15,
   "metadata": {},
   "outputs": [
    {
     "name": "stdout",
     "output_type": "stream",
     "text": [
      "MSE: 0.5850\n",
      "Пример предсказанных доходов: [-62.89889796293166, 5.498433644595297, -185.69325075078345, -185.69325075078345, -62.89889796293166]\n"
     ]
    }
   ],
   "source": [
    "import numpy as np\n",
    "import pandas as pd\n",
    "from sklearn.model_selection import train_test_split\n",
    "from sklearn.preprocessing import KBinsDiscretizer\n",
    "from sklearn.ensemble import RandomForestClassifier\n",
    "from sklearn.metrics import mean_squared_error\n",
    "from sklearn.datasets import make_regression\n",
    "\n",
    "X, y = make_regression(n_samples=1000, n_features=10, noise=0.1, random_state=42)\n",
    "df = pd.DataFrame(X, columns=[f'feature_{i}' for i in range(10)])\n",
    "df['income'] = y\n",
    "\n",
    "# Биннинг целевой переменной на 5 категорий\n",
    "kbin = KBinsDiscretizer(n_bins=5, encode='ordinal', strategy='quantile')\n",
    "df['income_bin'] = kbin.fit_transform(df[['income']]).astype(int)\n",
    "\n",
    "# Разделение на признаки и цель\n",
    "X = df.drop(['income', 'income_bin'], axis=1)\n",
    "y = df['income_bin']\n",
    "\n",
    "X_train, X_test, y_train, y_test = train_test_split(X, y, test_size=0.2, random_state=42)\n",
    "\n",
    "clf = RandomForestClassifier(n_estimators=100, random_state=42)\n",
    "clf.fit(X_train, y_train)\n",
    "\n",
    "y_pred = clf.predict(X_test)\n",
    "\n",
    "mse = mean_squared_error(y_test, y_pred)\n",
    "print(f\"MSE: {mse:.4f}\")\n",
    "\n",
    "df['income_mean'] = df.groupby('income_bin')['income'].transform('mean')\n",
    "income_means = df[['income_bin', 'income_mean']].drop_duplicates().sort_values('income_bin')\n",
    "\n",
    "# Создаем словарь бинн -> средний доход\n",
    "bin_to_income = dict(zip(income_means['income_bin'], income_means['income_mean']))\n",
    "\n",
    "income_pred = [bin_to_income[bin_] for bin_ in y_pred]\n",
    "print(f\"Пример предсказанных доходов: {income_pred[:5]}\")\n"
   ]
  },
  {
   "cell_type": "markdown",
   "metadata": {},
   "source": [
    "Можно использовать вероятностный подход, где прогнозируем доход основан на распределении вероятностей по бинам, например, как средневзвешанное"
   ]
  },
  {
   "cell_type": "markdown",
   "metadata": {},
   "source": [
    "Во всех случаях теряется значение о точности подхода + нужно убрать выбросы иначе после усреднения значение будет смещено к выбросу и нерепрезентативно "
   ]
  }
 ],
 "metadata": {
  "kernelspec": {
   "display_name": "Python 3",
   "language": "python",
   "name": "python3"
  },
  "language_info": {
   "codemirror_mode": {
    "name": "ipython",
    "version": 3
   },
   "file_extension": ".py",
   "mimetype": "text/x-python",
   "name": "python",
   "nbconvert_exporter": "python",
   "pygments_lexer": "ipython3",
   "version": "3.11.9"
  }
 },
 "nbformat": 4,
 "nbformat_minor": 2
}
